{
 "cells": [
  {
   "cell_type": "code",
   "execution_count": 1,
   "id": "d8c7d971-31c9-46f8-836d-ad3402760535",
   "metadata": {},
   "outputs": [],
   "source": [
    "import pandas as pd\n",
    "import numpy as np\n",
    "pd.set_option('display.max_columns', None)\n",
    "import warnings\n",
    "warnings.filterwarnings(\"ignore\")\n",
    "import matplotlib.pyplot as plt\n",
    "import seaborn as sns\n",
    "from sklearn.model_selection import train_test_split\n",
    "from sklearn.preprocessing import StandardScaler\n",
    "from sklearn.decomposition import PCA\n",
    "from sklearn.cluster import KMeans\n",
    "from sklearn.metrics import silhouette_score,accuracy_score,classification_report,confusion_matrix\n",
    "from sklearn.linear_model import LogisticRegression\n",
    "from sklearn.ensemble import RandomForestClassifier\n"
   ]
  },
  {
   "cell_type": "code",
   "execution_count": 3,
   "id": "8e59e24d-c181-47ca-be3a-8ce9283d9b9a",
   "metadata": {},
   "outputs": [],
   "source": [
    "df = pd.read_csv(r\"C:\\GreatLearning\\Unsupervised ML\\Project\\wine.xls\")"
   ]
  },
  {
   "cell_type": "code",
   "execution_count": 4,
   "id": "525cb37c-3461-40dc-bbc3-0cd873fbf3d1",
   "metadata": {},
   "outputs": [],
   "source": [
    "headers = [\"Class\",\"Alcohol\", \"Malic acid\", \"Ash\", \"Alcalinity of ash\", \"Magnesium\",\"Total phenols\", \"Flavanoids\", \"Nonflavanoid phenols\", \"Proanthocyanins\",\"Color intensity\", \"Hue\", \"OD280/OD315 of diluted wines\", \"Proline\"]"
   ]
  },
  {
   "cell_type": "markdown",
   "id": "11b6d111-8707-466c-8b40-b57231056ab0",
   "metadata": {},
   "source": [
    "**Adding the column headers**"
   ]
  },
  {
   "cell_type": "code",
   "execution_count": 5,
   "id": "91bb826b-3d18-4d23-9d54-18126313200a",
   "metadata": {},
   "outputs": [],
   "source": [
    "df.columns = headers"
   ]
  },
  {
   "cell_type": "code",
   "execution_count": 6,
   "id": "4788c7ba-9ff0-4995-b36d-6485703a915d",
   "metadata": {},
   "outputs": [
    {
     "data": {
      "text/html": [
       "<div>\n",
       "<style scoped>\n",
       "    .dataframe tbody tr th:only-of-type {\n",
       "        vertical-align: middle;\n",
       "    }\n",
       "\n",
       "    .dataframe tbody tr th {\n",
       "        vertical-align: top;\n",
       "    }\n",
       "\n",
       "    .dataframe thead th {\n",
       "        text-align: right;\n",
       "    }\n",
       "</style>\n",
       "<table border=\"1\" class=\"dataframe\">\n",
       "  <thead>\n",
       "    <tr style=\"text-align: right;\">\n",
       "      <th></th>\n",
       "      <th>Class</th>\n",
       "      <th>Alcohol</th>\n",
       "      <th>Malic acid</th>\n",
       "      <th>Ash</th>\n",
       "      <th>Alcalinity of ash</th>\n",
       "      <th>Magnesium</th>\n",
       "      <th>Total phenols</th>\n",
       "      <th>Flavanoids</th>\n",
       "      <th>Nonflavanoid phenols</th>\n",
       "      <th>Proanthocyanins</th>\n",
       "      <th>Color intensity</th>\n",
       "      <th>Hue</th>\n",
       "      <th>OD280/OD315 of diluted wines</th>\n",
       "      <th>Proline</th>\n",
       "    </tr>\n",
       "  </thead>\n",
       "  <tbody>\n",
       "    <tr>\n",
       "      <th>0</th>\n",
       "      <td>1</td>\n",
       "      <td>13.20</td>\n",
       "      <td>1.78</td>\n",
       "      <td>2.14</td>\n",
       "      <td>11.2</td>\n",
       "      <td>100</td>\n",
       "      <td>2.65</td>\n",
       "      <td>2.76</td>\n",
       "      <td>0.26</td>\n",
       "      <td>1.28</td>\n",
       "      <td>4.38</td>\n",
       "      <td>1.05</td>\n",
       "      <td>3.40</td>\n",
       "      <td>1050</td>\n",
       "    </tr>\n",
       "    <tr>\n",
       "      <th>1</th>\n",
       "      <td>1</td>\n",
       "      <td>13.16</td>\n",
       "      <td>2.36</td>\n",
       "      <td>2.67</td>\n",
       "      <td>18.6</td>\n",
       "      <td>101</td>\n",
       "      <td>2.80</td>\n",
       "      <td>3.24</td>\n",
       "      <td>0.30</td>\n",
       "      <td>2.81</td>\n",
       "      <td>5.68</td>\n",
       "      <td>1.03</td>\n",
       "      <td>3.17</td>\n",
       "      <td>1185</td>\n",
       "    </tr>\n",
       "    <tr>\n",
       "      <th>2</th>\n",
       "      <td>1</td>\n",
       "      <td>14.37</td>\n",
       "      <td>1.95</td>\n",
       "      <td>2.50</td>\n",
       "      <td>16.8</td>\n",
       "      <td>113</td>\n",
       "      <td>3.85</td>\n",
       "      <td>3.49</td>\n",
       "      <td>0.24</td>\n",
       "      <td>2.18</td>\n",
       "      <td>7.80</td>\n",
       "      <td>0.86</td>\n",
       "      <td>3.45</td>\n",
       "      <td>1480</td>\n",
       "    </tr>\n",
       "    <tr>\n",
       "      <th>3</th>\n",
       "      <td>1</td>\n",
       "      <td>13.24</td>\n",
       "      <td>2.59</td>\n",
       "      <td>2.87</td>\n",
       "      <td>21.0</td>\n",
       "      <td>118</td>\n",
       "      <td>2.80</td>\n",
       "      <td>2.69</td>\n",
       "      <td>0.39</td>\n",
       "      <td>1.82</td>\n",
       "      <td>4.32</td>\n",
       "      <td>1.04</td>\n",
       "      <td>2.93</td>\n",
       "      <td>735</td>\n",
       "    </tr>\n",
       "    <tr>\n",
       "      <th>4</th>\n",
       "      <td>1</td>\n",
       "      <td>14.20</td>\n",
       "      <td>1.76</td>\n",
       "      <td>2.45</td>\n",
       "      <td>15.2</td>\n",
       "      <td>112</td>\n",
       "      <td>3.27</td>\n",
       "      <td>3.39</td>\n",
       "      <td>0.34</td>\n",
       "      <td>1.97</td>\n",
       "      <td>6.75</td>\n",
       "      <td>1.05</td>\n",
       "      <td>2.85</td>\n",
       "      <td>1450</td>\n",
       "    </tr>\n",
       "  </tbody>\n",
       "</table>\n",
       "</div>"
      ],
      "text/plain": [
       "   Class  Alcohol  Malic acid   Ash  Alcalinity of ash  Magnesium  \\\n",
       "0      1    13.20        1.78  2.14               11.2        100   \n",
       "1      1    13.16        2.36  2.67               18.6        101   \n",
       "2      1    14.37        1.95  2.50               16.8        113   \n",
       "3      1    13.24        2.59  2.87               21.0        118   \n",
       "4      1    14.20        1.76  2.45               15.2        112   \n",
       "\n",
       "   Total phenols  Flavanoids  Nonflavanoid phenols  Proanthocyanins  \\\n",
       "0           2.65        2.76                  0.26             1.28   \n",
       "1           2.80        3.24                  0.30             2.81   \n",
       "2           3.85        3.49                  0.24             2.18   \n",
       "3           2.80        2.69                  0.39             1.82   \n",
       "4           3.27        3.39                  0.34             1.97   \n",
       "\n",
       "   Color intensity   Hue  OD280/OD315 of diluted wines  Proline  \n",
       "0             4.38  1.05                          3.40     1050  \n",
       "1             5.68  1.03                          3.17     1185  \n",
       "2             7.80  0.86                          3.45     1480  \n",
       "3             4.32  1.04                          2.93      735  \n",
       "4             6.75  1.05                          2.85     1450  "
      ]
     },
     "execution_count": 6,
     "metadata": {},
     "output_type": "execute_result"
    }
   ],
   "source": [
    "df.head()"
   ]
  },
  {
   "cell_type": "code",
   "execution_count": 7,
   "id": "ca07bddd-a315-46e8-accc-5d7f3f5e2596",
   "metadata": {},
   "outputs": [
    {
     "data": {
      "text/html": [
       "<div>\n",
       "<style scoped>\n",
       "    .dataframe tbody tr th:only-of-type {\n",
       "        vertical-align: middle;\n",
       "    }\n",
       "\n",
       "    .dataframe tbody tr th {\n",
       "        vertical-align: top;\n",
       "    }\n",
       "\n",
       "    .dataframe thead th {\n",
       "        text-align: right;\n",
       "    }\n",
       "</style>\n",
       "<table border=\"1\" class=\"dataframe\">\n",
       "  <thead>\n",
       "    <tr style=\"text-align: right;\">\n",
       "      <th></th>\n",
       "      <th>count</th>\n",
       "      <th>mean</th>\n",
       "      <th>std</th>\n",
       "      <th>min</th>\n",
       "      <th>25%</th>\n",
       "      <th>50%</th>\n",
       "      <th>75%</th>\n",
       "      <th>max</th>\n",
       "    </tr>\n",
       "  </thead>\n",
       "  <tbody>\n",
       "    <tr>\n",
       "      <th>Class</th>\n",
       "      <td>177.0</td>\n",
       "      <td>1.943503</td>\n",
       "      <td>0.773991</td>\n",
       "      <td>1.00</td>\n",
       "      <td>1.00</td>\n",
       "      <td>2.00</td>\n",
       "      <td>3.00</td>\n",
       "      <td>3.00</td>\n",
       "    </tr>\n",
       "    <tr>\n",
       "      <th>Alcohol</th>\n",
       "      <td>177.0</td>\n",
       "      <td>12.993672</td>\n",
       "      <td>0.808808</td>\n",
       "      <td>11.03</td>\n",
       "      <td>12.36</td>\n",
       "      <td>13.05</td>\n",
       "      <td>13.67</td>\n",
       "      <td>14.83</td>\n",
       "    </tr>\n",
       "    <tr>\n",
       "      <th>Malic acid</th>\n",
       "      <td>177.0</td>\n",
       "      <td>2.339887</td>\n",
       "      <td>1.119314</td>\n",
       "      <td>0.74</td>\n",
       "      <td>1.60</td>\n",
       "      <td>1.87</td>\n",
       "      <td>3.10</td>\n",
       "      <td>5.80</td>\n",
       "    </tr>\n",
       "    <tr>\n",
       "      <th>Ash</th>\n",
       "      <td>177.0</td>\n",
       "      <td>2.366158</td>\n",
       "      <td>0.275080</td>\n",
       "      <td>1.36</td>\n",
       "      <td>2.21</td>\n",
       "      <td>2.36</td>\n",
       "      <td>2.56</td>\n",
       "      <td>3.23</td>\n",
       "    </tr>\n",
       "    <tr>\n",
       "      <th>Alcalinity of ash</th>\n",
       "      <td>177.0</td>\n",
       "      <td>19.516949</td>\n",
       "      <td>3.336071</td>\n",
       "      <td>10.60</td>\n",
       "      <td>17.20</td>\n",
       "      <td>19.50</td>\n",
       "      <td>21.50</td>\n",
       "      <td>30.00</td>\n",
       "    </tr>\n",
       "    <tr>\n",
       "      <th>Magnesium</th>\n",
       "      <td>177.0</td>\n",
       "      <td>99.587571</td>\n",
       "      <td>14.174018</td>\n",
       "      <td>70.00</td>\n",
       "      <td>88.00</td>\n",
       "      <td>98.00</td>\n",
       "      <td>107.00</td>\n",
       "      <td>162.00</td>\n",
       "    </tr>\n",
       "    <tr>\n",
       "      <th>Total phenols</th>\n",
       "      <td>177.0</td>\n",
       "      <td>2.292260</td>\n",
       "      <td>0.626465</td>\n",
       "      <td>0.98</td>\n",
       "      <td>1.74</td>\n",
       "      <td>2.35</td>\n",
       "      <td>2.80</td>\n",
       "      <td>3.88</td>\n",
       "    </tr>\n",
       "    <tr>\n",
       "      <th>Flavanoids</th>\n",
       "      <td>177.0</td>\n",
       "      <td>2.023446</td>\n",
       "      <td>0.998658</td>\n",
       "      <td>0.34</td>\n",
       "      <td>1.20</td>\n",
       "      <td>2.13</td>\n",
       "      <td>2.86</td>\n",
       "      <td>5.08</td>\n",
       "    </tr>\n",
       "    <tr>\n",
       "      <th>Nonflavanoid phenols</th>\n",
       "      <td>177.0</td>\n",
       "      <td>0.362316</td>\n",
       "      <td>0.124653</td>\n",
       "      <td>0.13</td>\n",
       "      <td>0.27</td>\n",
       "      <td>0.34</td>\n",
       "      <td>0.44</td>\n",
       "      <td>0.66</td>\n",
       "    </tr>\n",
       "    <tr>\n",
       "      <th>Proanthocyanins</th>\n",
       "      <td>177.0</td>\n",
       "      <td>1.586949</td>\n",
       "      <td>0.571545</td>\n",
       "      <td>0.41</td>\n",
       "      <td>1.25</td>\n",
       "      <td>1.55</td>\n",
       "      <td>1.95</td>\n",
       "      <td>3.58</td>\n",
       "    </tr>\n",
       "    <tr>\n",
       "      <th>Color intensity</th>\n",
       "      <td>177.0</td>\n",
       "      <td>5.054802</td>\n",
       "      <td>2.324446</td>\n",
       "      <td>1.28</td>\n",
       "      <td>3.21</td>\n",
       "      <td>4.68</td>\n",
       "      <td>6.20</td>\n",
       "      <td>13.00</td>\n",
       "    </tr>\n",
       "    <tr>\n",
       "      <th>Hue</th>\n",
       "      <td>177.0</td>\n",
       "      <td>0.956983</td>\n",
       "      <td>0.229135</td>\n",
       "      <td>0.48</td>\n",
       "      <td>0.78</td>\n",
       "      <td>0.96</td>\n",
       "      <td>1.12</td>\n",
       "      <td>1.71</td>\n",
       "    </tr>\n",
       "    <tr>\n",
       "      <th>OD280/OD315 of diluted wines</th>\n",
       "      <td>177.0</td>\n",
       "      <td>2.604294</td>\n",
       "      <td>0.705103</td>\n",
       "      <td>1.27</td>\n",
       "      <td>1.93</td>\n",
       "      <td>2.78</td>\n",
       "      <td>3.17</td>\n",
       "      <td>4.00</td>\n",
       "    </tr>\n",
       "    <tr>\n",
       "      <th>Proline</th>\n",
       "      <td>177.0</td>\n",
       "      <td>745.096045</td>\n",
       "      <td>314.884046</td>\n",
       "      <td>278.00</td>\n",
       "      <td>500.00</td>\n",
       "      <td>672.00</td>\n",
       "      <td>985.00</td>\n",
       "      <td>1680.00</td>\n",
       "    </tr>\n",
       "  </tbody>\n",
       "</table>\n",
       "</div>"
      ],
      "text/plain": [
       "                              count        mean         std     min     25%  \\\n",
       "Class                         177.0    1.943503    0.773991    1.00    1.00   \n",
       "Alcohol                       177.0   12.993672    0.808808   11.03   12.36   \n",
       "Malic acid                    177.0    2.339887    1.119314    0.74    1.60   \n",
       "Ash                           177.0    2.366158    0.275080    1.36    2.21   \n",
       "Alcalinity of ash             177.0   19.516949    3.336071   10.60   17.20   \n",
       "Magnesium                     177.0   99.587571   14.174018   70.00   88.00   \n",
       "Total phenols                 177.0    2.292260    0.626465    0.98    1.74   \n",
       "Flavanoids                    177.0    2.023446    0.998658    0.34    1.20   \n",
       "Nonflavanoid phenols          177.0    0.362316    0.124653    0.13    0.27   \n",
       "Proanthocyanins               177.0    1.586949    0.571545    0.41    1.25   \n",
       "Color intensity               177.0    5.054802    2.324446    1.28    3.21   \n",
       "Hue                           177.0    0.956983    0.229135    0.48    0.78   \n",
       "OD280/OD315 of diluted wines  177.0    2.604294    0.705103    1.27    1.93   \n",
       "Proline                       177.0  745.096045  314.884046  278.00  500.00   \n",
       "\n",
       "                                 50%     75%      max  \n",
       "Class                           2.00    3.00     3.00  \n",
       "Alcohol                        13.05   13.67    14.83  \n",
       "Malic acid                      1.87    3.10     5.80  \n",
       "Ash                             2.36    2.56     3.23  \n",
       "Alcalinity of ash              19.50   21.50    30.00  \n",
       "Magnesium                      98.00  107.00   162.00  \n",
       "Total phenols                   2.35    2.80     3.88  \n",
       "Flavanoids                      2.13    2.86     5.08  \n",
       "Nonflavanoid phenols            0.34    0.44     0.66  \n",
       "Proanthocyanins                 1.55    1.95     3.58  \n",
       "Color intensity                 4.68    6.20    13.00  \n",
       "Hue                             0.96    1.12     1.71  \n",
       "OD280/OD315 of diluted wines    2.78    3.17     4.00  \n",
       "Proline                       672.00  985.00  1680.00  "
      ]
     },
     "execution_count": 7,
     "metadata": {},
     "output_type": "execute_result"
    }
   ],
   "source": [
    "df.describe().T"
   ]
  },
  {
   "cell_type": "code",
   "execution_count": 8,
   "id": "e4ab7b57-140a-4c30-a612-6e525079ad09",
   "metadata": {},
   "outputs": [
    {
     "name": "stdout",
     "output_type": "stream",
     "text": [
      "<class 'pandas.core.frame.DataFrame'>\n",
      "RangeIndex: 177 entries, 0 to 176\n",
      "Data columns (total 14 columns):\n",
      " #   Column                        Non-Null Count  Dtype  \n",
      "---  ------                        --------------  -----  \n",
      " 0   Class                         177 non-null    int64  \n",
      " 1   Alcohol                       177 non-null    float64\n",
      " 2   Malic acid                    177 non-null    float64\n",
      " 3   Ash                           177 non-null    float64\n",
      " 4   Alcalinity of ash             177 non-null    float64\n",
      " 5   Magnesium                     177 non-null    int64  \n",
      " 6   Total phenols                 177 non-null    float64\n",
      " 7   Flavanoids                    177 non-null    float64\n",
      " 8   Nonflavanoid phenols          177 non-null    float64\n",
      " 9   Proanthocyanins               177 non-null    float64\n",
      " 10  Color intensity               177 non-null    float64\n",
      " 11  Hue                           177 non-null    float64\n",
      " 12  OD280/OD315 of diluted wines  177 non-null    float64\n",
      " 13  Proline                       177 non-null    int64  \n",
      "dtypes: float64(11), int64(3)\n",
      "memory usage: 19.5 KB\n"
     ]
    }
   ],
   "source": [
    "df.info()"
   ]
  },
  {
   "cell_type": "code",
   "execution_count": 9,
   "id": "5d8e7599-1cbe-42f1-a38a-be49a1a681d2",
   "metadata": {},
   "outputs": [],
   "source": [
    "### Changing Class data type to categorical\n",
    "\n",
    "df.Class = df.Class.astype('category')"
   ]
  },
  {
   "cell_type": "code",
   "execution_count": 10,
   "id": "e0ca1e67-4c5a-4f48-a9e7-56c86b15de0b",
   "metadata": {},
   "outputs": [
    {
     "data": {
      "image/png": "[encoded data removed]",
      "text/plain": [
       "<Figure size 2000x2500 with 13 Axes>"
      ]
     },
     "metadata": {},
     "output_type": "display_data"
    }
   ],
   "source": [
    "plt.figure(figsize=(20, 25))\n",
    "for i, column in enumerate(df.select_dtypes(np.number), 1):\n",
    "    plt.subplot(6,3,i)\n",
    "    sns.boxplot(data=df[column], orient='h')\n",
    "    plt.title(column)\n",
    "    plt.xlabel(\"\")\n",
    "\n",
    "plt.tight_layout()\n",
    "plt.show()\n",
    "    "
   ]
  },
  {
   "cell_type": "markdown",
   "id": "91d72573-dad1-4f3d-a7fe-8095f343f9f0",
   "metadata": {},
   "source": [
    "### Insights:\n",
    "\n",
    "**No missing values**\n",
    "\n",
    "**Class should be categorical data**\n",
    "\n",
    "**Minimal outliers present in some columns**"
   ]
  },
  {
   "cell_type": "markdown",
   "id": "ad9b0c7e-058b-4833-93df-e4bb521ee7e2",
   "metadata": {},
   "source": [
    "#### Scaling the data"
   ]
  },
  {
   "cell_type": "code",
   "execution_count": 11,
   "id": "574c1483-2e92-47fd-86a3-078a9457b0e4",
   "metadata": {},
   "outputs": [],
   "source": [
    "scaler = StandardScaler()"
   ]
  },
  {
   "cell_type": "code",
   "execution_count": 12,
   "id": "b06bbda0-8df1-420b-853c-82e7aa54b447",
   "metadata": {},
   "outputs": [
    {
     "data": {
      "text/plain": [
       "array([[-1.22246766,  0.2558245 , -0.50162433, ...,  0.40709978,\n",
       "         1.13169801,  0.97105248],\n",
       "       [-1.22246766,  0.20622873,  0.01802001, ...,  0.3195674 ,\n",
       "         0.80457911,  1.40099798],\n",
       "       [-1.22246766,  1.70650069, -0.34931478, ..., -0.4244579 ,\n",
       "         1.20281081,  2.34050852],\n",
       "       ...,\n",
       "       [ 1.36887097,  0.34261709,  1.73822194, ..., -1.60614514,\n",
       "        -1.48525319,  0.28632445],\n",
       "       [ 1.36887097,  0.21862767,  0.22408586, ..., -1.56237895,\n",
       "        -1.39991783,  0.30224836],\n",
       "       [ 1.36887097,  1.40892609,  1.57695301, ..., -1.51861275,\n",
       "        -1.42836295, -0.58949046]])"
      ]
     },
     "execution_count": 12,
     "metadata": {},
     "output_type": "execute_result"
    }
   ],
   "source": [
    "df_scaled = scaler.fit_transform(df)\n",
    "df_scaled"
   ]
  },
  {
   "cell_type": "code",
   "execution_count": 34,
   "id": "69590426-d58a-4582-8ad5-09f64bd4fb84",
   "metadata": {},
   "outputs": [
    {
     "data": {
      "text/plain": [
       "(177, 14)"
      ]
     },
     "execution_count": 34,
     "metadata": {},
     "output_type": "execute_result"
    }
   ],
   "source": [
    "df_scaled.shape"
   ]
  },
  {
   "cell_type": "code",
   "execution_count": 13,
   "id": "0abdc49d-0c1e-4ee9-bdc1-64453e05c974",
   "metadata": {},
   "outputs": [],
   "source": [
    "df1 = df.copy()"
   ]
  },
  {
   "cell_type": "markdown",
   "id": "e9dc08a0-94cd-40ac-b3ee-07b8b0bbbbea",
   "metadata": {},
   "source": [
    "#### Using K-means clustering (find optimal value for K first)"
   ]
  },
  {
   "cell_type": "code",
   "execution_count": 14,
   "id": "58f632b9-d1c6-49ee-b9bb-0ab349d317f8",
   "metadata": {},
   "outputs": [
    {
     "name": "stdout",
     "output_type": "stream",
     "text": [
      "WCSS for k=1: 2478.0\n",
      "WCSS for k=2: 1719.4802011829256\n",
      "WCSS for k=3: 1283.0944138318914\n",
      "WCSS for k=4: 1179.7339630034317\n",
      "WCSS for k=5: 1137.9591699543612\n",
      "WCSS for k=6: 1082.7241819164853\n",
      "WCSS for k=7: 1002.3756076518896\n",
      "WCSS for k=8: 993.5325889920387\n",
      "WCSS for k=9: 926.8472081062521\n",
      "WCSS for k=10: 900.5032142980324\n"
     ]
    }
   ],
   "source": [
    "wcss = []\n",
    "\n",
    "for k in range(1,11):\n",
    "    kmeans = KMeans(n_clusters=k, random_state=1)\n",
    "    kmeans.fit(df_scaled)\n",
    "    wcss.append(kmeans.inertia_)\n",
    "    \n",
    "for i, val in enumerate(wcss, start=1):\n",
    "    print(f\"WCSS for k={i}: {val}\")"
   ]
  },
  {
   "cell_type": "code",
   "execution_count": 15,
   "id": "c10fa775-04b1-4c40-b403-3f050ed21169",
   "metadata": {},
   "outputs": [
    {
     "data": {
      "image/png": "[encoded data removed]",
      "text/plain": [
       "<Figure size 800x500 with 1 Axes>"
      ]
     },
     "metadata": {},
     "output_type": "display_data"
    }
   ],
   "source": [
    "plt.figure(figsize=(8, 5))\n",
    "plt.plot(range(1, 11), wcss, marker='o', linestyle='-')\n",
    "plt.title('Elbow plot for optimal k')\n",
    "plt.xlabel('Number of Clusters (k)')\n",
    "plt.ylabel('Within-Cluster Sum of Squares (WCSS)')\n",
    "plt.xticks(range(1, 11))\n",
    "plt.grid()\n",
    "plt.show()"
   ]
  },
  {
   "cell_type": "markdown",
   "id": "1896f9f8-4dc5-4df5-bc05-769a18ca6a0d",
   "metadata": {},
   "source": [
    "#### validating optimal K using silhouette coeffs plot"
   ]
  },
  {
   "cell_type": "code",
   "execution_count": 16,
   "id": "eaa6cbf7-fe45-4f0c-879e-a0175113766c",
   "metadata": {},
   "outputs": [
    {
     "data": {
      "text/html": [
       "<div>\n",
       "<style scoped>\n",
       "    .dataframe tbody tr th:only-of-type {\n",
       "        vertical-align: middle;\n",
       "    }\n",
       "\n",
       "    .dataframe tbody tr th {\n",
       "        vertical-align: top;\n",
       "    }\n",
       "\n",
       "    .dataframe thead th {\n",
       "        text-align: right;\n",
       "    }\n",
       "</style>\n",
       "<table border=\"1\" class=\"dataframe\">\n",
       "  <thead>\n",
       "    <tr style=\"text-align: right;\">\n",
       "      <th></th>\n",
       "      <th>Clusters</th>\n",
       "      <th>Silhouette Coefficient</th>\n",
       "    </tr>\n",
       "  </thead>\n",
       "  <tbody>\n",
       "    <tr>\n",
       "      <th>0</th>\n",
       "      <td>2</td>\n",
       "      <td>0.285190</td>\n",
       "    </tr>\n",
       "    <tr>\n",
       "      <th>1</th>\n",
       "      <td>3</td>\n",
       "      <td>0.306310</td>\n",
       "    </tr>\n",
       "    <tr>\n",
       "      <th>2</th>\n",
       "      <td>4</td>\n",
       "      <td>0.273649</td>\n",
       "    </tr>\n",
       "    <tr>\n",
       "      <th>3</th>\n",
       "      <td>5</td>\n",
       "      <td>0.191384</td>\n",
       "    </tr>\n",
       "    <tr>\n",
       "      <th>4</th>\n",
       "      <td>6</td>\n",
       "      <td>0.181794</td>\n",
       "    </tr>\n",
       "    <tr>\n",
       "      <th>5</th>\n",
       "      <td>7</td>\n",
       "      <td>0.177588</td>\n",
       "    </tr>\n",
       "    <tr>\n",
       "      <th>6</th>\n",
       "      <td>8</td>\n",
       "      <td>0.183126</td>\n",
       "    </tr>\n",
       "    <tr>\n",
       "      <th>7</th>\n",
       "      <td>9</td>\n",
       "      <td>0.187788</td>\n",
       "    </tr>\n",
       "  </tbody>\n",
       "</table>\n",
       "</div>"
      ],
      "text/plain": [
       "  Clusters  Silhouette Coefficient\n",
       "0        2                0.285190\n",
       "1        3                0.306310\n",
       "2        4                0.273649\n",
       "3        5                0.191384\n",
       "4        6                0.181794\n",
       "5        7                0.177588\n",
       "6        8                0.183126\n",
       "7        9                0.187788"
      ]
     },
     "execution_count": 16,
     "metadata": {},
     "output_type": "execute_result"
    }
   ],
   "source": [
    "silhouette_scores = {}\n",
    "\n",
    "for n_clusters in range(2, 10):  \n",
    "    kmeans = KMeans(n_clusters=n_clusters, random_state=1)\n",
    "    cluster_labels = kmeans.fit_predict(df_scaled)\n",
    "    silhouette_avg = silhouette_score(df_scaled, cluster_labels)\n",
    "    silhouette_scores[f\"{n_clusters}\"] = silhouette_avg\n",
    "\n",
    "\n",
    "silhouette_df = pd.DataFrame(list(silhouette_scores.items()),columns=['Clusters','Silhouette Coefficient'])\n",
    "silhouette_df"
   ]
  },
  {
   "cell_type": "code",
   "execution_count": 17,
   "id": "f724e415-e9d3-47c9-83e0-572d49705f44",
   "metadata": {},
   "outputs": [
    {
     "name": "stdout",
     "output_type": "stream",
     "text": [
      "------------------------------------------------------------\n",
      "Optimal number of clusters are : 3\n",
      "------------------------------------------------------------\n"
     ]
    }
   ],
   "source": [
    "print(f'--'*30)\n",
    "print('Optimal number of clusters are :',silhouette_df.iloc[silhouette_df['Silhouette Coefficient'].idxmax(),0])\n",
    "print(f'--'*30)"
   ]
  },
  {
   "cell_type": "code",
   "execution_count": 18,
   "id": "b1cb7c52-43e2-4a64-928a-9a8ca4955f8e",
   "metadata": {},
   "outputs": [
    {
     "data": {
      "image/png": "[encoded data removed]",
      "text/plain": [
       "<Figure size 800x500 with 1 Axes>"
      ]
     },
     "metadata": {},
     "output_type": "display_data"
    }
   ],
   "source": [
    "### plotting silhouette coefficients\n",
    "\n",
    "plt.figure(figsize=(8, 5))\n",
    "plt.plot(range(2, 10), silhouette_df[\"Silhouette Coefficient\"], marker='o', linestyle='--')\n",
    "plt.title(\"Silhouette Coefficients for Cluster Sizes\")\n",
    "plt.xlabel(\"Number of Clusters\")\n",
    "plt.ylabel(\"Silhouette Coefficient\")\n",
    "plt.xticks(range(2, 10))\n",
    "plt.grid(True)\n",
    "plt.show()"
   ]
  },
  {
   "cell_type": "markdown",
   "id": "7c21ce1e-3f1d-4b19-ac55-e90e7151553e",
   "metadata": {},
   "source": [
    "**K-Means clustering**"
   ]
  },
  {
   "cell_type": "code",
   "execution_count": 19,
   "id": "7fdb8e11-b61a-449c-8789-f5b7d3d05df9",
   "metadata": {},
   "outputs": [
    {
     "data": {
      "text/plain": [
       "array([2, 2, 2, 2, 2, 2, 2, 2, 2, 2, 2, 2, 2, 2, 2, 2, 2, 2, 2, 2, 2, 2,\n",
       "       2, 2, 2, 2, 2, 2, 2, 2, 2, 2, 2, 2, 2, 2, 2, 2, 2, 2, 2, 2, 2, 2,\n",
       "       2, 2, 2, 2, 2, 2, 2, 2, 2, 2, 2, 2, 2, 2, 0, 0, 0, 0, 0, 0, 0, 0,\n",
       "       0, 0, 0, 0, 0, 0, 2, 0, 0, 0, 0, 0, 0, 0, 0, 0, 1, 0, 0, 0, 0, 0,\n",
       "       0, 0, 0, 0, 0, 0, 2, 0, 0, 0, 0, 0, 0, 0, 0, 0, 0, 0, 0, 0, 0, 0,\n",
       "       0, 0, 0, 0, 0, 0, 0, 0, 0, 0, 2, 0, 0, 0, 0, 0, 0, 0, 0, 1, 1, 1,\n",
       "       1, 1, 1, 1, 1, 1, 1, 1, 1, 1, 1, 1, 1, 1, 1, 1, 1, 1, 1, 1, 1, 1,\n",
       "       1, 1, 1, 1, 1, 1, 1, 1, 1, 1, 1, 1, 1, 1, 1, 1, 1, 1, 1, 1, 1, 1,\n",
       "       1])"
      ]
     },
     "execution_count": 19,
     "metadata": {},
     "output_type": "execute_result"
    }
   ],
   "source": [
    "k_means = KMeans(n_clusters = 3,random_state=42)\n",
    "k_means.fit(df_scaled)\n",
    "cluster_labels = k_means.labels_\n",
    "cluster_labels"
   ]
  },
  {
   "cell_type": "code",
   "execution_count": 20,
   "id": "27064e92-162a-4dc2-acb4-ada270022bd0",
   "metadata": {},
   "outputs": [
    {
     "name": "stdout",
     "output_type": "stream",
     "text": [
      "------------------------------------------------------------\n",
      "Silhouette Score : 0.3052703836110603\n",
      "------------------------------------------------------------\n"
     ]
    }
   ],
   "source": [
    "print(f'--'*30)\n",
    "print(f'Silhouette Score : {silhouette_score(df_scaled,cluster_labels)}')\n",
    "print(f'--'*30)"
   ]
  },
  {
   "cell_type": "markdown",
   "id": "fcb2fcc3-7a03-4fd3-a325-f272b2cdd011",
   "metadata": {},
   "source": [
    "**Applying PCA and re-applying K-Means**"
   ]
  },
  {
   "cell_type": "code",
   "execution_count": 21,
   "id": "826c3d47-5891-457b-aa2d-4ddbb3fb0234",
   "metadata": {},
   "outputs": [],
   "source": [
    "pca = PCA(n_components=2)\n",
    "df_pca = pca.fit_transform(df_scaled)"
   ]
  },
  {
   "cell_type": "code",
   "execution_count": 22,
   "id": "b2cc6b53-91d9-48db-aace-839aed52fb37",
   "metadata": {},
   "outputs": [
    {
     "name": "stdout",
     "output_type": "stream",
     "text": [
      "\n",
      "Sum of Cumulative Explained Variance: 0.9653791698397947\n"
     ]
    }
   ],
   "source": [
    "## Validating the dimension reduction using PCA (<=1)\n",
    "\n",
    "explained_variance = np.cumsum(pca.explained_variance_ratio_)\n",
    "print(f'\\nSum of Cumulative Explained Variance: {np.sum(explained_variance)}')"
   ]
  },
  {
   "cell_type": "code",
   "execution_count": 23,
   "id": "d1c40a43-ef78-4f97-a11d-0e75ea1a0d5b",
   "metadata": {},
   "outputs": [],
   "source": [
    "k_means_new = KMeans(n_clusters=3,random_state=42)\n",
    "k_means_new.fit(df_pca)\n",
    "cluster_labels = k_means_new.labels_\n",
    "df1['Clusters'] = cluster_labels"
   ]
  },
  {
   "cell_type": "code",
   "execution_count": 24,
   "id": "c0e90697-7d24-4992-bb38-f77e031057ad",
   "metadata": {},
   "outputs": [
    {
     "name": "stdout",
     "output_type": "stream",
     "text": [
      "------------------------------------------------------------\n",
      "Silhouette Score : 0.601883223332822\n",
      "------------------------------------------------------------\n"
     ]
    }
   ],
   "source": [
    "print(f'--'*30)\n",
    "print(f'Silhouette Score : {silhouette_score(df_pca,cluster_labels)}')\n",
    "print(f'--'*30)"
   ]
  },
  {
   "cell_type": "markdown",
   "id": "75c4e2f9-581f-4af6-9005-fd8ab6b3e59e",
   "metadata": {},
   "source": [
    "#### visualising clusters"
   ]
  },
  {
   "cell_type": "code",
   "execution_count": 25,
   "id": "039e049a-6e22-48f0-9055-e425ad6983ad",
   "metadata": {},
   "outputs": [
    {
     "data": {
      "image/png": "[encoded data removed]",
      "text/plain": [
       "<Figure size 800x600 with 2 Axes>"
      ]
     },
     "metadata": {},
     "output_type": "display_data"
    }
   ],
   "source": [
    "plt.figure(figsize=(8,6))\n",
    "plt.scatter(df_pca[:, 0], df_pca[:, 1], c=df1.Clusters, cmap='flare_r')\n",
    "plt.title('K-Means Clustering with PCA')\n",
    "plt.xlabel('PCA Component 1')\n",
    "plt.ylabel('PCA Component 2')\n",
    "plt.colorbar(label='Cluster')\n",
    "plt.show()"
   ]
  },
  {
   "cell_type": "markdown",
   "id": "a1d6c68f-1513-4907-8b19-333e65c3e6d8",
   "metadata": {},
   "source": [
    "**Checking clusters summary**"
   ]
  },
  {
   "cell_type": "code",
   "execution_count": 26,
   "id": "96df5ad0-2a16-4b74-b7fe-2f98e4718215",
   "metadata": {},
   "outputs": [
    {
     "data": {
      "text/html": [
       "<div>\n",
       "<style scoped>\n",
       "    .dataframe tbody tr th:only-of-type {\n",
       "        vertical-align: middle;\n",
       "    }\n",
       "\n",
       "    .dataframe tbody tr th {\n",
       "        vertical-align: top;\n",
       "    }\n",
       "\n",
       "    .dataframe thead th {\n",
       "        text-align: right;\n",
       "    }\n",
       "</style>\n",
       "<table border=\"1\" class=\"dataframe\">\n",
       "  <thead>\n",
       "    <tr style=\"text-align: right;\">\n",
       "      <th></th>\n",
       "      <th>count</th>\n",
       "      <th>Alcohol</th>\n",
       "      <th>Malic acid</th>\n",
       "      <th>Ash</th>\n",
       "      <th>Alcalinity of ash</th>\n",
       "      <th>Magnesium</th>\n",
       "      <th>Total phenols</th>\n",
       "      <th>Flavanoids</th>\n",
       "      <th>Nonflavanoid phenols</th>\n",
       "      <th>Proanthocyanins</th>\n",
       "      <th>Color intensity</th>\n",
       "      <th>Hue</th>\n",
       "      <th>OD280/OD315 of diluted wines</th>\n",
       "      <th>Proline</th>\n",
       "    </tr>\n",
       "    <tr>\n",
       "      <th>Clusters</th>\n",
       "      <th></th>\n",
       "      <th></th>\n",
       "      <th></th>\n",
       "      <th></th>\n",
       "      <th></th>\n",
       "      <th></th>\n",
       "      <th></th>\n",
       "      <th></th>\n",
       "      <th></th>\n",
       "      <th></th>\n",
       "      <th></th>\n",
       "      <th></th>\n",
       "      <th></th>\n",
       "      <th></th>\n",
       "    </tr>\n",
       "  </thead>\n",
       "  <tbody>\n",
       "    <tr>\n",
       "      <th>0</th>\n",
       "      <td>67</td>\n",
       "      <td>12.264478</td>\n",
       "      <td>1.912239</td>\n",
       "      <td>2.224328</td>\n",
       "      <td>19.953731</td>\n",
       "      <td>92.656716</td>\n",
       "      <td>2.235075</td>\n",
       "      <td>2.028507</td>\n",
       "      <td>0.361343</td>\n",
       "      <td>1.597313</td>\n",
       "      <td>3.020896</td>\n",
       "      <td>1.056060</td>\n",
       "      <td>2.775075</td>\n",
       "      <td>507.208955</td>\n",
       "    </tr>\n",
       "    <tr>\n",
       "      <th>2</th>\n",
       "      <td>61</td>\n",
       "      <td>13.667705</td>\n",
       "      <td>2.002623</td>\n",
       "      <td>2.466885</td>\n",
       "      <td>17.493443</td>\n",
       "      <td>107.655738</td>\n",
       "      <td>2.848361</td>\n",
       "      <td>3.002295</td>\n",
       "      <td>0.292295</td>\n",
       "      <td>1.916066</td>\n",
       "      <td>5.450492</td>\n",
       "      <td>1.065902</td>\n",
       "      <td>3.150984</td>\n",
       "      <td>1100.803279</td>\n",
       "    </tr>\n",
       "    <tr>\n",
       "      <th>1</th>\n",
       "      <td>49</td>\n",
       "      <td>13.151633</td>\n",
       "      <td>3.344490</td>\n",
       "      <td>2.434694</td>\n",
       "      <td>21.438776</td>\n",
       "      <td>99.020408</td>\n",
       "      <td>1.678163</td>\n",
       "      <td>0.797959</td>\n",
       "      <td>0.450816</td>\n",
       "      <td>1.163061</td>\n",
       "      <td>7.343265</td>\n",
       "      <td>0.685918</td>\n",
       "      <td>1.690204</td>\n",
       "      <td>627.551020</td>\n",
       "    </tr>\n",
       "  </tbody>\n",
       "</table>\n",
       "</div>"
      ],
      "text/plain": [
       "          count    Alcohol  Malic acid       Ash  Alcalinity of ash  \\\n",
       "Clusters                                                              \n",
       "0            67  12.264478    1.912239  2.224328          19.953731   \n",
       "2            61  13.667705    2.002623  2.466885          17.493443   \n",
       "1            49  13.151633    3.344490  2.434694          21.438776   \n",
       "\n",
       "           Magnesium  Total phenols  Flavanoids  Nonflavanoid phenols  \\\n",
       "Clusters                                                                \n",
       "0          92.656716       2.235075    2.028507              0.361343   \n",
       "2         107.655738       2.848361    3.002295              0.292295   \n",
       "1          99.020408       1.678163    0.797959              0.450816   \n",
       "\n",
       "          Proanthocyanins  Color intensity       Hue  \\\n",
       "Clusters                                               \n",
       "0                1.597313         3.020896  1.056060   \n",
       "2                1.916066         5.450492  1.065902   \n",
       "1                1.163061         7.343265  0.685918   \n",
       "\n",
       "          OD280/OD315 of diluted wines      Proline  \n",
       "Clusters                                             \n",
       "0                             2.775075   507.208955  \n",
       "2                             3.150984  1100.803279  \n",
       "1                             1.690204   627.551020  "
      ]
     },
     "execution_count": 26,
     "metadata": {},
     "output_type": "execute_result"
    }
   ],
   "source": [
    "df1.Clusters.value_counts().reset_index().merge(df1.drop('Class',axis=1).groupby('Clusters').mean(),on='Clusters').set_index('Clusters')"
   ]
  },
  {
   "cell_type": "markdown",
   "id": "d53d1790-37ae-49e7-b783-3f9a29af4db0",
   "metadata": {},
   "source": [
    "**Using RandomForest to predict cluster labels**"
   ]
  },
  {
   "cell_type": "code",
   "execution_count": 27,
   "id": "7d991429-a1c6-4971-9187-7e88ee8538a9",
   "metadata": {},
   "outputs": [],
   "source": [
    "X = df1.drop(['Class','Clusters'],axis=1)\n",
    "y = df1.Clusters\n",
    "X_train,X_test,y_train,y_test = train_test_split(X,y,test_size=0.3,random_state=42)\n"
   ]
  },
  {
   "cell_type": "code",
   "execution_count": 28,
   "id": "8889e2bf-5b5a-470a-a569-650e7fc50c9a",
   "metadata": {},
   "outputs": [
    {
     "name": "stdout",
     "output_type": "stream",
     "text": [
      "Test accuracy score: 0.981481\n"
     ]
    }
   ],
   "source": [
    "rf = RandomForestClassifier(random_state=42)\n",
    "rf_model = rf.fit(X_train,y_train)\n",
    "y_pred_rf = rf_model.predict(X_test)\n",
    "print(f'Test accuracy score: {accuracy_score(y_test,y_pred_rf):3f}')"
   ]
  },
  {
   "cell_type": "code",
   "execution_count": 29,
   "id": "611c3c1c-39a1-4777-bb0d-044fec5f383c",
   "metadata": {},
   "outputs": [
    {
     "name": "stdout",
     "output_type": "stream",
     "text": [
      "Train accuracy score: 1.0\n"
     ]
    }
   ],
   "source": [
    "y_train_pred_rf = rf_model.predict(X_train)\n",
    "print(f'Train accuracy score: {accuracy_score(y_train,y_train_pred_rf)}')"
   ]
  },
  {
   "cell_type": "code",
   "execution_count": 30,
   "id": "969f13c6-dd97-476a-b7ca-ec7b7f335ff9",
   "metadata": {},
   "outputs": [
    {
     "name": "stdout",
     "output_type": "stream",
     "text": [
      "Classification Report:\n",
      "              precision    recall  f1-score   support\n",
      "\n",
      "           0       1.00      0.95      0.97        20\n",
      "           1       0.94      1.00      0.97        15\n",
      "           2       1.00      1.00      1.00        19\n",
      "\n",
      "    accuracy                           0.98        54\n",
      "   macro avg       0.98      0.98      0.98        54\n",
      "weighted avg       0.98      0.98      0.98        54\n",
      "\n"
     ]
    }
   ],
   "source": [
    "print(f'Classification Report:\\n{classification_report(y_test,y_pred_rf)}')"
   ]
  },
  {
   "cell_type": "code",
   "execution_count": 31,
   "id": "9127652d-0d10-44cf-b702-db2ccec8ab41",
   "metadata": {},
   "outputs": [
    {
     "name": "stdout",
     "output_type": "stream",
     "text": [
      "Confusion Matrix:\n",
      "[[19  1  0]\n",
      " [ 0 15  0]\n",
      " [ 0  0 19]]\n"
     ]
    }
   ],
   "source": [
    "print(f'Confusion Matrix:\\n{confusion_matrix(y_test,y_pred_rf)}')"
   ]
  },
  {
   "cell_type": "code",
   "execution_count": null,
   "id": "ab4a6891-ddf4-4434-9f03-06a5a684cde4",
   "metadata": {},
   "outputs": [],
   "source": []
  },
  {
   "cell_type": "code",
   "execution_count": null,
   "id": "8420fd6e-65bc-47e8-9e36-bac5bf4e0ed2",
   "metadata": {},
   "outputs": [],
   "source": []
  },
  {
   "cell_type": "code",
   "execution_count": null,
   "id": "d06f2b1f-bf7d-4e6b-8b37-cd2e603948e3",
   "metadata": {},
   "outputs": [],
   "source": []
  },
  {
   "cell_type": "code",
   "execution_count": null,
   "id": "00a73437-c353-40bf-9a12-5178220aabfe",
   "metadata": {},
   "outputs": [],
   "source": []
  },
  {
   "cell_type": "code",
   "execution_count": null,
   "id": "45df152b-8b99-4c1e-ab3a-2e052be8b11b",
   "metadata": {},
   "outputs": [],
   "source": []
  },
  {
   "cell_type": "code",
   "execution_count": null,
   "id": "02cad4bb-d896-493e-8b7a-8c1e26f45bb1",
   "metadata": {},
   "outputs": [],
   "source": []
  },
  {
   "cell_type": "code",
   "execution_count": null,
   "id": "b895a996-0dc3-40dd-ad2b-d4e2842e68af",
   "metadata": {},
   "outputs": [],
   "source": []
  },
  {
   "cell_type": "code",
   "execution_count": null,
   "id": "7f961be5-cc2f-4ec5-86b7-5b06a36a2aae",
   "metadata": {},
   "outputs": [],
   "source": []
  },
  {
   "cell_type": "code",
   "execution_count": null,
   "id": "c51cdbaa-792d-4a3b-a0dd-5bf7e533e854",
   "metadata": {},
   "outputs": [],
   "source": []
  },
  {
   "cell_type": "code",
   "execution_count": null,
   "id": "471677f0-ce99-47a1-b7ce-505515744cb7",
   "metadata": {},
   "outputs": [],
   "source": []
  },
  {
   "cell_type": "code",
   "execution_count": null,
   "id": "a59d3716-c43d-4a55-9ee1-f05fd72ce09a",
   "metadata": {},
   "outputs": [],
   "source": []
  },
  {
   "cell_type": "code",
   "execution_count": null,
   "id": "3e646888-4ece-4732-a760-ad89b6d75edb",
   "metadata": {},
   "outputs": [],
   "source": []
  },
  {
   "cell_type": "code",
   "execution_count": null,
   "id": "f482125d-914a-482b-bf96-4e3bc9da08fd",
   "metadata": {},
   "outputs": [],
   "source": []
  },
  {
   "cell_type": "code",
   "execution_count": null,
   "id": "1445737e-0f21-4d58-a9c9-16403225e45f",
   "metadata": {},
   "outputs": [],
   "source": []
  },
  {
   "cell_type": "code",
   "execution_count": null,
   "id": "11f571ae-347f-4137-968b-7b7b2cf6eb5c",
   "metadata": {},
   "outputs": [],
   "source": []
  },
  {
   "cell_type": "code",
   "execution_count": null,
   "id": "0e410279-6e6d-4c04-ba59-93a08e690526",
   "metadata": {},
   "outputs": [],
   "source": []
  },
  {
   "cell_type": "code",
   "execution_count": null,
   "id": "2c2a60c4-f8f9-4b58-a20d-d1a69b605274",
   "metadata": {},
   "outputs": [],
   "source": []
  },
  {
   "cell_type": "code",
   "execution_count": null,
   "id": "34579259-7d9e-49c0-a94c-949dc92f6bb0",
   "metadata": {},
   "outputs": [],
   "source": []
  },
  {
   "cell_type": "code",
   "execution_count": null,
   "id": "7b274f1e-0ac3-430d-927c-b0a2c1deee65",
   "metadata": {},
   "outputs": [],
   "source": []
  },
  {
   "cell_type": "code",
   "execution_count": null,
   "id": "2a4e4186-9356-43f1-8fde-6c821743a15e",
   "metadata": {},
   "outputs": [],
   "source": []
  },
  {
   "cell_type": "code",
   "execution_count": null,
   "id": "c05ae6d7-6d7e-432a-a404-f9e4e62901bb",
   "metadata": {},
   "outputs": [],
   "source": []
  },
  {
   "cell_type": "code",
   "execution_count": null,
   "id": "1fdd0a50-482c-423f-9159-6fa79c74104f",
   "metadata": {},
   "outputs": [],
   "source": []
  },
  {
   "cell_type": "code",
   "execution_count": null,
   "id": "556cd4a0-7fbd-4027-9be9-966c3a0ef5d4",
   "metadata": {},
   "outputs": [],
   "source": []
  },
  {
   "cell_type": "code",
   "execution_count": null,
   "id": "8f8a3034-e59c-407a-83ae-621db1aae2c1",
   "metadata": {},
   "outputs": [],
   "source": []
  },
  {
   "cell_type": "code",
   "execution_count": null,
   "id": "7f137858-70ab-4302-a009-95099130e1a9",
   "metadata": {},
   "outputs": [],
   "source": []
  },
  {
   "cell_type": "code",
   "execution_count": null,
   "id": "bb25be04-3f74-4c13-a9de-4194c12d62b4",
   "metadata": {},
   "outputs": [],
   "source": []
  },
  {
   "cell_type": "code",
   "execution_count": null,
   "id": "2d6e0562-45e7-4f7a-9d24-69d7af9ac65c",
   "metadata": {},
   "outputs": [],
   "source": []
  },
  {
   "cell_type": "code",
   "execution_count": null,
   "id": "5231cc4c-8c80-4149-b984-4308db38c6fd",
   "metadata": {},
   "outputs": [],
   "source": []
  },
  {
   "cell_type": "code",
   "execution_count": null,
   "id": "81ec6ec2-b3b3-4143-b254-1cd3a85985fc",
   "metadata": {},
   "outputs": [],
   "source": []
  },
  {
   "cell_type": "code",
   "execution_count": null,
   "id": "150194ec-2df6-4e75-8626-32c059fc2934",
   "metadata": {},
   "outputs": [],
   "source": []
  },
  {
   "cell_type": "code",
   "execution_count": null,
   "id": "28b1ae1c-b975-4804-944f-df951ae0175d",
   "metadata": {},
   "outputs": [],
   "source": []
  },
  {
   "cell_type": "code",
   "execution_count": null,
   "id": "26bef2da-44b5-4274-8a2d-22f54ad1dcc3",
   "metadata": {},
   "outputs": [],
   "source": []
  },
  {
   "cell_type": "code",
   "execution_count": null,
   "id": "c4b1893e-98d9-44e7-ae2d-f5421ad4f368",
   "metadata": {},
   "outputs": [],
   "source": []
  },
  {
   "cell_type": "code",
   "execution_count": null,
   "id": "35cd7f87-e63a-4169-8f37-5e1ebd2770f3",
   "metadata": {},
   "outputs": [],
   "source": []
  },
  {
   "cell_type": "code",
   "execution_count": null,
   "id": "0059e449-087f-4e4d-9328-b84410f5273a",
   "metadata": {},
   "outputs": [],
   "source": []
  },
  {
   "cell_type": "code",
   "execution_count": null,
   "id": "d4c21dcf-14b1-4507-9373-6569b22f8eb3",
   "metadata": {},
   "outputs": [],
   "source": []
  },
  {
   "cell_type": "code",
   "execution_count": null,
   "id": "1d433c44-686a-48c8-a0a1-3d50dd518828",
   "metadata": {},
   "outputs": [],
   "source": []
  },
  {
   "cell_type": "code",
   "execution_count": null,
   "id": "28394749-7f5c-409a-a169-6893ad09925f",
   "metadata": {},
   "outputs": [],
   "source": []
  },
  {
   "cell_type": "code",
   "execution_count": null,
   "id": "9c25c36f-49a6-492c-ad49-889832d6d587",
   "metadata": {},
   "outputs": [],
   "source": []
  },
  {
   "cell_type": "code",
   "execution_count": null,
   "id": "c400366b-efd7-4f75-8fcc-c55c529055b8",
   "metadata": {},
   "outputs": [],
   "source": []
  },
  {
   "cell_type": "code",
   "execution_count": null,
   "id": "32741d4a-b011-4018-8c4b-f746b5860379",
   "metadata": {},
   "outputs": [],
   "source": []
  },
  {
   "cell_type": "code",
   "execution_count": null,
   "id": "d5b6203d-9352-48a1-bdf8-a48042340c9c",
   "metadata": {},
   "outputs": [],
   "source": []
  },
  {
   "cell_type": "code",
   "execution_count": null,
   "id": "7cb07b38-91d6-41d2-abe9-e8702bb203ec",
   "metadata": {},
   "outputs": [],
   "source": []
  },
  {
   "cell_type": "code",
   "execution_count": null,
   "id": "0b31e774-64f0-4260-ba6b-97513300376e",
   "metadata": {},
   "outputs": [],
   "source": []
  },
  {
   "cell_type": "code",
   "execution_count": null,
   "id": "46cb2494-0999-40fc-a4c8-9ff9c27a39ae",
   "metadata": {},
   "outputs": [],
   "source": []
  },
  {
   "cell_type": "code",
   "execution_count": null,
   "id": "f29f0cd3-bf5f-4adb-be5e-e2173a6f2a97",
   "metadata": {},
   "outputs": [],
   "source": []
  },
  {
   "cell_type": "code",
   "execution_count": null,
   "id": "ed67b429-f626-49fe-af66-9e4aba279286",
   "metadata": {},
   "outputs": [],
   "source": []
  },
  {
   "cell_type": "code",
   "execution_count": null,
   "id": "18dcfb00-3a8a-42e1-b1a8-fae9205ad63c",
   "metadata": {},
   "outputs": [],
   "source": []
  },
  {
   "cell_type": "code",
   "execution_count": null,
   "id": "f3f38dcb-da3d-47bb-a194-3f32b8d45b80",
   "metadata": {},
   "outputs": [],
   "source": []
  },
  {
   "cell_type": "code",
   "execution_count": null,
   "id": "157a81db-c19d-4697-a453-963beccd57e2",
   "metadata": {},
   "outputs": [],
   "source": []
  },
  {
   "cell_type": "code",
   "execution_count": null,
   "id": "abd84df4-0987-4203-87c4-e9fa743f011d",
   "metadata": {},
   "outputs": [],
   "source": []
  },
  {
   "cell_type": "code",
   "execution_count": null,
   "id": "54e78f2f-5b62-42ca-9ad3-31c76929e82c",
   "metadata": {},
   "outputs": [],
   "source": []
  },
  {
   "cell_type": "code",
   "execution_count": null,
   "id": "e14e8ee8-f640-4a57-b317-d4905aa11858",
   "metadata": {},
   "outputs": [],
   "source": []
  },
  {
   "cell_type": "code",
   "execution_count": null,
   "id": "e789f8f0-494f-46f3-8815-4b3332fbced0",
   "metadata": {},
   "outputs": [],
   "source": []
  },
  {
   "cell_type": "code",
   "execution_count": null,
   "id": "edd57ec9-69d1-4437-a8b8-a6b82a493439",
   "metadata": {},
   "outputs": [],
   "source": []
  },
  {
   "cell_type": "code",
   "execution_count": null,
   "id": "d01153ac-c5af-4fae-bf53-72fadde345ff",
   "metadata": {},
   "outputs": [],
   "source": []
  },
  {
   "cell_type": "code",
   "execution_count": null,
   "id": "3cf893ab-7b17-4e15-9aa2-c89585b32eb6",
   "metadata": {},
   "outputs": [],
   "source": []
  },
  {
   "cell_type": "code",
   "execution_count": null,
   "id": "92dbc0d3-ed68-4017-804c-763a590536a5",
   "metadata": {},
   "outputs": [],
   "source": []
  },
  {
   "cell_type": "code",
   "execution_count": null,
   "id": "2902fa1c-2cc3-4779-a681-2fdfd3bac781",
   "metadata": {},
   "outputs": [],
   "source": []
  },
  {
   "cell_type": "code",
   "execution_count": null,
   "id": "92994cc0-3bbc-4951-bb7a-d07ddde011f8",
   "metadata": {},
   "outputs": [],
   "source": []
  },
  {
   "cell_type": "code",
   "execution_count": null,
   "id": "8f738df8-3d04-460e-b480-d3f2a812acf1",
   "metadata": {},
   "outputs": [],
   "source": []
  },
  {
   "cell_type": "code",
   "execution_count": null,
   "id": "cbdbd20e-b182-4d16-a0ba-4551e28dac69",
   "metadata": {},
   "outputs": [],
   "source": []
  },
  {
   "cell_type": "code",
   "execution_count": null,
   "id": "035d0b1a-a153-44ed-8937-79a2b9998e17",
   "metadata": {},
   "outputs": [],
   "source": []
  },
  {
   "cell_type": "code",
   "execution_count": null,
   "id": "3a9ebddd-1880-470d-88b3-ace9b582ed88",
   "metadata": {},
   "outputs": [],
   "source": []
  },
  {
   "cell_type": "code",
   "execution_count": null,
   "id": "3c3bb1c8-0cf4-431a-be32-c46ad7ebf527",
   "metadata": {},
   "outputs": [],
   "source": []
  },
  {
   "cell_type": "code",
   "execution_count": null,
   "id": "c8fb11f6-df8b-49e4-afcd-e15608b00385",
   "metadata": {},
   "outputs": [],
   "source": []
  },
  {
   "cell_type": "code",
   "execution_count": null,
   "id": "c66221c5-a81b-4283-bacf-586e939c36cf",
   "metadata": {},
   "outputs": [],
   "source": []
  },
  {
   "cell_type": "code",
   "execution_count": null,
   "id": "e0787f35-39e2-423e-943e-35fcbd6a30af",
   "metadata": {},
   "outputs": [],
   "source": []
  },
  {
   "cell_type": "code",
   "execution_count": null,
   "id": "fc419d38-4a86-4b98-a5d2-32879eef73e0",
   "metadata": {},
   "outputs": [],
   "source": []
  },
  {
   "cell_type": "code",
   "execution_count": null,
   "id": "240671e6-e867-46c2-83e6-bbe077c25614",
   "metadata": {},
   "outputs": [],
   "source": []
  },
  {
   "cell_type": "code",
   "execution_count": null,
   "id": "47c2f753-b450-4431-889c-94cc19e0ad36",
   "metadata": {},
   "outputs": [],
   "source": []
  },
  {
   "cell_type": "code",
   "execution_count": null,
   "id": "5e854773-f570-4118-a8db-01d3ce39ab10",
   "metadata": {},
   "outputs": [],
   "source": []
  },
  {
   "cell_type": "code",
   "execution_count": null,
   "id": "43205be3-d5d6-4282-9352-274fb3f5eae1",
   "metadata": {},
   "outputs": [],
   "source": []
  },
  {
   "cell_type": "code",
   "execution_count": null,
   "id": "50f25686-ba8c-4154-8f44-7fe39f906d69",
   "metadata": {},
   "outputs": [],
   "source": []
  },
  {
   "cell_type": "code",
   "execution_count": null,
   "id": "b0d8c2b1-0671-44da-97b3-6fc9ef018881",
   "metadata": {},
   "outputs": [],
   "source": []
  },
  {
   "cell_type": "code",
   "execution_count": null,
   "id": "b92cf3f2-3d5c-4600-b4b7-010953c1bcf0",
   "metadata": {},
   "outputs": [],
   "source": []
  },
  {
   "cell_type": "code",
   "execution_count": null,
   "id": "e068e9ad-32ee-44f1-ae28-20383c037efe",
   "metadata": {},
   "outputs": [],
   "source": []
  },
  {
   "cell_type": "code",
   "execution_count": null,
   "id": "17f3936e-ce48-4ed5-abae-e134b3988e4e",
   "metadata": {},
   "outputs": [],
   "source": []
  },
  {
   "cell_type": "code",
   "execution_count": null,
   "id": "57711219-6fed-496c-97af-cef6672f9c27",
   "metadata": {},
   "outputs": [],
   "source": []
  },
  {
   "cell_type": "code",
   "execution_count": null,
   "id": "bd3fca70-fe6d-4d00-96f3-c86fccec78ba",
   "metadata": {},
   "outputs": [],
   "source": []
  },
  {
   "cell_type": "code",
   "execution_count": null,
   "id": "b4a82a05-03a1-46f3-a2dc-775fd497b5de",
   "metadata": {},
   "outputs": [],
   "source": []
  },
  {
   "cell_type": "code",
   "execution_count": null,
   "id": "5f21a8b7-71e2-4abc-8709-9651f4a56198",
   "metadata": {},
   "outputs": [],
   "source": []
  },
  {
   "cell_type": "code",
   "execution_count": null,
   "id": "44b603a9-a507-4a84-86ad-1d140eacd4d6",
   "metadata": {},
   "outputs": [],
   "source": []
  },
  {
   "cell_type": "code",
   "execution_count": null,
   "id": "e0ad090c-e8ed-425a-b301-a751ad1cd6ef",
   "metadata": {},
   "outputs": [],
   "source": []
  },
  {
   "cell_type": "code",
   "execution_count": null,
   "id": "c417d30f-0d8b-444f-9ba9-ed75849c29b4",
   "metadata": {},
   "outputs": [],
   "source": []
  },
  {
   "cell_type": "code",
   "execution_count": null,
   "id": "1df75c96-bcff-4a4f-b65d-2f1ea24347bf",
   "metadata": {},
   "outputs": [],
   "source": []
  },
  {
   "cell_type": "code",
   "execution_count": null,
   "id": "90ff8ff5-62e6-4eb9-9917-076e9c2b1064",
   "metadata": {},
   "outputs": [],
   "source": []
  },
  {
   "cell_type": "code",
   "execution_count": null,
   "id": "d9ecea87-313e-4ae4-8603-846768e90ca0",
   "metadata": {},
   "outputs": [],
   "source": []
  },
  {
   "cell_type": "code",
   "execution_count": null,
   "id": "454a1d8c-8f98-49da-b175-69a2d7e6eb64",
   "metadata": {},
   "outputs": [],
   "source": []
  },
  {
   "cell_type": "code",
   "execution_count": null,
   "id": "4c6b4caa-bffc-45f1-abc8-32e5ad91da81",
   "metadata": {},
   "outputs": [],
   "source": []
  },
  {
   "cell_type": "code",
   "execution_count": null,
   "id": "e9b16509-12e6-40a2-bf4f-e8d0c3ff8682",
   "metadata": {},
   "outputs": [],
   "source": []
  },
  {
   "cell_type": "code",
   "execution_count": null,
   "id": "7ebd8d7d-c65e-489f-a345-7691f8ff4bbe",
   "metadata": {},
   "outputs": [],
   "source": []
  },
  {
   "cell_type": "code",
   "execution_count": null,
   "id": "7d34ce5b-06f0-4047-8e6a-e7b36deb4562",
   "metadata": {},
   "outputs": [],
   "source": []
  },
  {
   "cell_type": "code",
   "execution_count": null,
   "id": "22f2e8f9-3353-429f-9604-58edc01aba1a",
   "metadata": {},
   "outputs": [],
   "source": []
  },
  {
   "cell_type": "code",
   "execution_count": null,
   "id": "91a1a33c-5db8-415a-8b2a-e396ece7645e",
   "metadata": {},
   "outputs": [],
   "source": []
  },
  {
   "cell_type": "code",
   "execution_count": null,
   "id": "d2c05fbe-c444-4fd9-80fa-269fd61d2aa5",
   "metadata": {},
   "outputs": [],
   "source": []
  },
  {
   "cell_type": "code",
   "execution_count": null,
   "id": "789051cf-30fc-4540-b92e-1e8c2adabfd8",
   "metadata": {},
   "outputs": [],
   "source": []
  },
  {
   "cell_type": "code",
   "execution_count": null,
   "id": "7d7e4fdf-042a-43a5-abb1-fc99d39ea8e3",
   "metadata": {},
   "outputs": [],
   "source": []
  },
  {
   "cell_type": "code",
   "execution_count": null,
   "id": "041e5c24-8bf8-4d1c-bf70-611401594593",
   "metadata": {},
   "outputs": [],
   "source": []
  },
  {
   "cell_type": "code",
   "execution_count": null,
   "id": "51f477fc-31ce-477c-8552-763811d47e6d",
   "metadata": {},
   "outputs": [],
   "source": []
  },
  {
   "cell_type": "code",
   "execution_count": null,
   "id": "020290e1-29bc-43b2-9a5d-5944d56bfee0",
   "metadata": {},
   "outputs": [],
   "source": []
  },
  {
   "cell_type": "code",
   "execution_count": null,
   "id": "2daa215b-148d-43b8-878a-e696da21f0d7",
   "metadata": {},
   "outputs": [],
   "source": []
  },
  {
   "cell_type": "code",
   "execution_count": null,
   "id": "825b73bd-6f5c-4f36-828b-b1fc9349a095",
   "metadata": {},
   "outputs": [],
   "source": []
  },
  {
   "cell_type": "code",
   "execution_count": null,
   "id": "3e166d4c-e841-4f62-9d7f-c94f34178fe7",
   "metadata": {},
   "outputs": [],
   "source": []
  },
  {
   "cell_type": "code",
   "execution_count": null,
   "id": "8bfdbffe-47e3-47fb-9c7b-e6288c5b8406",
   "metadata": {},
   "outputs": [],
   "source": []
  },
  {
   "cell_type": "code",
   "execution_count": null,
   "id": "fae4840b-47e5-4141-b704-f93ce8208e99",
   "metadata": {},
   "outputs": [],
   "source": []
  },
  {
   "cell_type": "code",
   "execution_count": null,
   "id": "6a20faa7-5a3f-4a45-8769-36b06250084f",
   "metadata": {},
   "outputs": [],
   "source": []
  },
  {
   "cell_type": "code",
   "execution_count": null,
   "id": "af2a432f-cab8-4c83-b280-6f1227f7b4b6",
   "metadata": {},
   "outputs": [],
   "source": []
  },
  {
   "cell_type": "code",
   "execution_count": null,
   "id": "fdcd03ae-99b6-4f85-b998-db03fde08cb9",
   "metadata": {},
   "outputs": [],
   "source": []
  },
  {
   "cell_type": "code",
   "execution_count": null,
   "id": "1f77d436-ab9c-40c6-a355-3f19f470e799",
   "metadata": {},
   "outputs": [],
   "source": []
  },
  {
   "cell_type": "code",
   "execution_count": null,
   "id": "a459ec72-b961-4303-a05b-9bea451244db",
   "metadata": {},
   "outputs": [],
   "source": []
  },
  {
   "cell_type": "code",
   "execution_count": null,
   "id": "62aabe43-630c-4e38-97eb-005f9ffd37f1",
   "metadata": {},
   "outputs": [],
   "source": []
  },
  {
   "cell_type": "code",
   "execution_count": null,
   "id": "4162f048-d44d-496b-b041-8426c89aadb2",
   "metadata": {},
   "outputs": [],
   "source": []
  },
  {
   "cell_type": "code",
   "execution_count": null,
   "id": "21c508a6-5f99-461b-8bc5-41986e865fe9",
   "metadata": {},
   "outputs": [],
   "source": []
  },
  {
   "cell_type": "code",
   "execution_count": null,
   "id": "ba34e645-4dfa-4b5b-a9fc-590dc3405e1d",
   "metadata": {},
   "outputs": [],
   "source": []
  },
  {
   "cell_type": "code",
   "execution_count": null,
   "id": "31ebcced-8aa4-4921-a574-379984eaf210",
   "metadata": {},
   "outputs": [],
   "source": []
  },
  {
   "cell_type": "code",
   "execution_count": null,
   "id": "a4cbe015-a2a9-4211-bae2-4bd2336f65b7",
   "metadata": {},
   "outputs": [],
   "source": []
  },
  {
   "cell_type": "code",
   "execution_count": null,
   "id": "42d89667-989e-4347-b168-82346ceccadf",
   "metadata": {},
   "outputs": [],
   "source": []
  },
  {
   "cell_type": "code",
   "execution_count": null,
   "id": "9e1c45d8-0a6e-4afe-888d-ac9b17fcdf4e",
   "metadata": {},
   "outputs": [],
   "source": []
  },
  {
   "cell_type": "code",
   "execution_count": null,
   "id": "8945bf19-01d4-42ed-ba5b-50fbd7cec01a",
   "metadata": {},
   "outputs": [],
   "source": []
  },
  {
   "cell_type": "code",
   "execution_count": null,
   "id": "6139765d-ae81-425b-927e-6f0111e4a2bd",
   "metadata": {},
   "outputs": [],
   "source": []
  },
  {
   "cell_type": "code",
   "execution_count": null,
   "id": "9e7944f1-e0f8-46c4-b4e4-f99571a2f2ff",
   "metadata": {},
   "outputs": [],
   "source": []
  },
  {
   "cell_type": "code",
   "execution_count": null,
   "id": "4e3ec0ae-e941-4d03-ad4c-76f0e1a56306",
   "metadata": {},
   "outputs": [],
   "source": []
  },
  {
   "cell_type": "code",
   "execution_count": null,
   "id": "2fd6958b-445b-4e41-a9ec-26d1c183932e",
   "metadata": {},
   "outputs": [],
   "source": []
  },
  {
   "cell_type": "code",
   "execution_count": null,
   "id": "3b17ded0-80ec-4654-8d38-b6ad9d66cdbc",
   "metadata": {},
   "outputs": [],
   "source": []
  },
  {
   "cell_type": "code",
   "execution_count": null,
   "id": "1841604b-0211-455e-9f91-9dc441d42eed",
   "metadata": {},
   "outputs": [],
   "source": []
  },
  {
   "cell_type": "code",
   "execution_count": null,
   "id": "5c8b2a16-68dc-4ca1-a78c-8af65b53abbe",
   "metadata": {},
   "outputs": [],
   "source": []
  },
  {
   "cell_type": "code",
   "execution_count": null,
   "id": "405280d5-78f5-4932-b8bc-0eb866b3cab1",
   "metadata": {},
   "outputs": [],
   "source": []
  },
  {
   "cell_type": "code",
   "execution_count": null,
   "id": "3ba9ced8-4031-45f9-b97c-2670e1400cda",
   "metadata": {},
   "outputs": [],
   "source": []
  },
  {
   "cell_type": "code",
   "execution_count": null,
   "id": "19d24995-8851-4012-a32e-852501333f09",
   "metadata": {},
   "outputs": [],
   "source": []
  },
  {
   "cell_type": "code",
   "execution_count": null,
   "id": "22e15994-6c9c-41c4-9da0-d8d29e3e5875",
   "metadata": {},
   "outputs": [],
   "source": []
  },
  {
   "cell_type": "code",
   "execution_count": null,
   "id": "831956e7-db26-48a8-a723-6d1d35f8ab76",
   "metadata": {},
   "outputs": [],
   "source": []
  },
  {
   "cell_type": "code",
   "execution_count": null,
   "id": "bcb9fed1-61d0-4d3d-8195-d30afcf1eaec",
   "metadata": {},
   "outputs": [],
   "source": []
  },
  {
   "cell_type": "code",
   "execution_count": null,
   "id": "5169d055-af58-45b7-9376-1eb01497c2db",
   "metadata": {},
   "outputs": [],
   "source": []
  },
  {
   "cell_type": "code",
   "execution_count": null,
   "id": "11d23910-15b7-462f-b99d-0f9d807bdb05",
   "metadata": {},
   "outputs": [],
   "source": []
  }
 ],
 "metadata": {
  "kernelspec": {
   "display_name": "Python 3 (ipykernel)",
   "language": "python",
   "name": "python3"
  },
  "language_info": {
   "codemirror_mode": {
    "name": "ipython",
    "version": 3
   },
   "file_extension": ".py",
   "mimetype": "text/x-python",
   "name": "python",
   "nbconvert_exporter": "python",
   "pygments_lexer": "ipython3",
   "version": "3.11.7"
  }
 },
 "nbformat": 4,
 "nbformat_minor": 5
}
